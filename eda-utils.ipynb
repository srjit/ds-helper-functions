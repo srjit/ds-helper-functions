{
 "cells": [
  {
   "cell_type": "code",
   "execution_count": 1,
   "metadata": {},
   "outputs": [],
   "source": [
    "import warnings\n",
    "warnings.filterwarnings('ignore')"
   ]
  },
  {
   "cell_type": "code",
   "execution_count": 2,
   "metadata": {},
   "outputs": [],
   "source": [
    "import plotly.express as px\n",
    "import plotly.graph_objects as go\n",
    "\n",
    "\n",
    "import matplotlib.pyplot as plt\n",
    "plt.style.use(\"ggplot\")\n",
    "import numpy as np\n",
    "import pandas as pd\n",
    "pd.options.plotting.backend = \"plotly\""
   ]
  },
  {
   "cell_type": "markdown",
   "metadata": {},
   "source": [
    "__Plot on the same canvas as subplots: Helper function for brevity__"
   ]
  },
  {
   "cell_type": "code",
   "execution_count": 3,
   "metadata": {},
   "outputs": [],
   "source": [
    "def plot(X_,Y_, ax=None, title=\"\", xlabel=\"\", ylabel=\"\", dist=None, **kwargs):\n",
    "\n",
    "    ax = ax or plt.gca()\n",
    "    ax.set_title(title)\n",
    "    ax.set_xlabel(xlabel)\n",
    "    ax.set_ylabel(ylabel)\n",
    "\n",
    "    if dist:\n",
    "        ax.axvline(dist.mean(), color=\"black\")\n",
    "    return ax.scatter(X_,Y_, **kwargs)"
   ]
  },
  {
   "cell_type": "markdown",
   "metadata": {},
   "source": [
    "__Usage Example__"
   ]
  },
  {
   "cell_type": "code",
   "execution_count": 5,
   "metadata": {},
   "outputs": [],
   "source": [
    "# f = plt.figure(figsize=(18, 10))\n",
    "\n",
    "# fig, (ax1, ax2) = plt.subplots(ncols=2, figsize=(15, 4))\n",
    "\n",
    "# plot(X,Y, ax1)\n",
    "# plot(X,Y_poiss, ax1, title=\"Poisson Fit\", xlabel=\"K\", ylabel=\"Probability\", alpha=0.5)\n",
    "# plot(X,Y, ax2)\n",
    "# plot(sorted(X),Y_neg_binomial, ax2, \n",
    "#      title=\"Negative Binomial Fit\", \n",
    "#      xlabel=\"K\", \n",
    "#      ylabel=\"Probability\", \n",
    "#      dist = dist_est,\n",
    "#      alpha=0.5)"
   ]
  },
  {
   "cell_type": "code",
   "execution_count": null,
   "metadata": {},
   "outputs": [],
   "source": []
  }
 ],
 "metadata": {
  "kernelspec": {
   "display_name": "mllib",
   "language": "python",
   "name": "mllib"
  },
  "language_info": {
   "codemirror_mode": {
    "name": "ipython",
    "version": 3
   },
   "file_extension": ".py",
   "mimetype": "text/x-python",
   "name": "python",
   "nbconvert_exporter": "python",
   "pygments_lexer": "ipython3",
   "version": "3.7.7"
  }
 },
 "nbformat": 4,
 "nbformat_minor": 4
}
